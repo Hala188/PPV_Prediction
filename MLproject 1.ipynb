{
 "cells": [
  {
   "cell_type": "markdown",
   "id": "3599cdaa",
   "metadata": {},
   "source": [
    "# Predicting PPV using PyCaret\n",
    "\n",
    "## Introduction\n",
    "In this project, we will use the **PyCaret** library to predict the **PPV** (Price per View) based on the other columns: **Gender**, **Age**, and **Dur** (Duration). We will focus on building a regression model, as **PPV** is a continuous variable. The goal is to create a predictive model that performs well and explains the influence of different features on the **PPV**.\n",
    "\n",
    "### Dataset Description\n",
    "The dataset consists of the following columns:\n",
    "- **Gender**: The gender of the individual (categorical).\n",
    "- **Age**: The age of the individual (numeric).\n",
    "- **Dur**: The duration of the session (numeric).\n",
    "- **PPV**: The target variable representing the price per view (numeric).\n",
    "\n"
   ]
  },
  {
   "cell_type": "code",
   "execution_count": 2,
   "id": "c4943505",
   "metadata": {},
   "outputs": [
    {
     "name": "stdout",
     "output_type": "stream",
     "text": [
      "Requirement already satisfied: pycaret in c:\\users\\al_qema\\anaconda3\\lib\\site-packages (3.3.2)\n",
      "Requirement already satisfied: psutil>=5.9.0 in c:\\users\\al_qema\\anaconda3\\lib\\site-packages (from pycaret) (5.9.0)\n",
      "Requirement already satisfied: sktime==0.26.0 in c:\\users\\al_qema\\anaconda3\\lib\\site-packages (from pycaret) (0.26.0)\n",
      "Requirement already satisfied: tbats>=1.1.3 in c:\\users\\al_qema\\anaconda3\\lib\\site-packages (from pycaret) (1.1.3)\n",
      "Requirement already satisfied: statsmodels>=0.12.1 in c:\\users\\al_qema\\anaconda3\\lib\\site-packages (from pycaret) (0.13.2)\n",
      "Requirement already satisfied: plotly-resampler>=0.8.3.1 in c:\\users\\al_qema\\anaconda3\\lib\\site-packages (from pycaret) (0.10.0)\n",
      "Requirement already satisfied: requests>=2.27.1 in c:\\users\\al_qema\\anaconda3\\lib\\site-packages (from pycaret) (2.28.1)\n",
      "Requirement already satisfied: ipywidgets>=7.6.5 in c:\\users\\al_qema\\anaconda3\\lib\\site-packages (from pycaret) (7.6.5)\n",
      "Requirement already satisfied: cloudpickle in c:\\users\\al_qema\\anaconda3\\lib\\site-packages (from pycaret) (2.0.0)\n",
      "Requirement already satisfied: plotly>=5.14.0 in c:\\users\\al_qema\\anaconda3\\lib\\site-packages (from pycaret) (5.24.1)\n",
      "Requirement already satisfied: imbalanced-learn>=0.12.0 in c:\\users\\al_qema\\anaconda3\\lib\\site-packages (from pycaret) (0.12.4)\n",
      "Requirement already satisfied: nbformat>=4.2.0 in c:\\users\\al_qema\\anaconda3\\lib\\site-packages (from pycaret) (5.5.0)\n",
      "Requirement already satisfied: ipython>=5.5.0 in c:\\users\\al_qema\\anaconda3\\lib\\site-packages (from pycaret) (7.31.1)\n",
      "Requirement already satisfied: matplotlib<3.8.0 in c:\\users\\al_qema\\anaconda3\\lib\\site-packages (from pycaret) (3.5.2)\n",
      "Requirement already satisfied: scipy<=1.11.4,>=1.6.1 in c:\\users\\al_qema\\anaconda3\\lib\\site-packages (from pycaret) (1.9.1)\n",
      "Requirement already satisfied: importlib-metadata>=4.12.0 in c:\\users\\al_qema\\anaconda3\\lib\\site-packages (from pycaret) (8.6.1)\n",
      "Requirement already satisfied: category-encoders>=2.4.0 in c:\\users\\al_qema\\anaconda3\\lib\\site-packages (from pycaret) (2.6.4)\n",
      "Requirement already satisfied: numpy<1.27,>=1.21 in c:\\users\\al_qema\\anaconda3\\lib\\site-packages (from pycaret) (1.21.5)\n",
      "Requirement already satisfied: yellowbrick>=1.4 in c:\\users\\al_qema\\anaconda3\\lib\\site-packages (from pycaret) (1.5)\n",
      "Requirement already satisfied: xxhash in c:\\users\\al_qema\\anaconda3\\lib\\site-packages (from pycaret) (3.5.0)\n",
      "Requirement already satisfied: pandas<2.2.0 in c:\\users\\al_qema\\anaconda3\\lib\\site-packages (from pycaret) (1.4.4)\n",
      "Requirement already satisfied: deprecation>=2.1.0 in c:\\users\\al_qema\\anaconda3\\lib\\site-packages (from pycaret) (2.1.0)\n",
      "Requirement already satisfied: pyod>=1.1.3 in c:\\users\\al_qema\\anaconda3\\lib\\site-packages (from pycaret) (2.0.3)\n",
      "Requirement already satisfied: markupsafe>=2.0.1 in c:\\users\\al_qema\\anaconda3\\lib\\site-packages (from pycaret) (2.0.1)\n",
      "Requirement already satisfied: kaleido>=0.2.1 in c:\\users\\al_qema\\anaconda3\\lib\\site-packages (from pycaret) (0.2.1)\n",
      "Requirement already satisfied: scikit-learn>1.4.0 in c:\\users\\al_qema\\anaconda3\\lib\\site-packages (from pycaret) (1.4.2)\n",
      "Requirement already satisfied: lightgbm>=3.0.0 in c:\\users\\al_qema\\anaconda3\\lib\\site-packages (from pycaret) (4.5.0)\n",
      "Requirement already satisfied: tqdm>=4.62.0 in c:\\users\\al_qema\\anaconda3\\lib\\site-packages (from pycaret) (4.64.1)\n",
      "Requirement already satisfied: jinja2>=3 in c:\\users\\al_qema\\anaconda3\\lib\\site-packages (from pycaret) (3.1.5)\n",
      "Requirement already satisfied: pmdarima>=2.0.4 in c:\\users\\al_qema\\anaconda3\\lib\\site-packages (from pycaret) (2.0.4)\n",
      "Requirement already satisfied: joblib<1.4,>=1.2.0 in c:\\users\\al_qema\\anaconda3\\lib\\site-packages (from pycaret) (1.3.2)\n",
      "Requirement already satisfied: numba>=0.55.0 in c:\\users\\al_qema\\anaconda3\\lib\\site-packages (from pycaret) (0.55.1)\n",
      "Requirement already satisfied: scikit-plot>=0.3.7 in c:\\users\\al_qema\\anaconda3\\lib\\site-packages (from pycaret) (0.3.7)\n",
      "Requirement already satisfied: schemdraw==0.15 in c:\\users\\al_qema\\anaconda3\\lib\\site-packages (from pycaret) (0.15)\n",
      "Requirement already satisfied: scikit-base<0.8.0 in c:\\users\\al_qema\\anaconda3\\lib\\site-packages (from sktime==0.26.0->pycaret) (0.7.8)\n",
      "Requirement already satisfied: packaging in c:\\users\\al_qema\\anaconda3\\lib\\site-packages (from sktime==0.26.0->pycaret) (21.3)\n",
      "Requirement already satisfied: patsy>=0.5.1 in c:\\users\\al_qema\\anaconda3\\lib\\site-packages (from category-encoders>=2.4.0->pycaret) (0.5.2)\n",
      "Requirement already satisfied: threadpoolctl>=2.0.0 in c:\\users\\al_qema\\anaconda3\\lib\\site-packages (from imbalanced-learn>=0.12.0->pycaret) (2.2.0)\n",
      "Requirement already satisfied: zipp>=3.20 in c:\\users\\al_qema\\anaconda3\\lib\\site-packages (from importlib-metadata>=4.12.0->pycaret) (3.21.0)\n",
      "Requirement already satisfied: pickleshare in c:\\users\\al_qema\\anaconda3\\lib\\site-packages (from ipython>=5.5.0->pycaret) (0.7.5)\n",
      "Requirement already satisfied: backcall in c:\\users\\al_qema\\anaconda3\\lib\\site-packages (from ipython>=5.5.0->pycaret) (0.2.0)\n",
      "Requirement already satisfied: pygments in c:\\users\\al_qema\\anaconda3\\lib\\site-packages (from ipython>=5.5.0->pycaret) (2.11.2)\n",
      "Requirement already satisfied: matplotlib-inline in c:\\users\\al_qema\\anaconda3\\lib\\site-packages (from ipython>=5.5.0->pycaret) (0.1.6)\n",
      "Requirement already satisfied: jedi>=0.16 in c:\\users\\al_qema\\anaconda3\\lib\\site-packages (from ipython>=5.5.0->pycaret) (0.18.1)\n",
      "Requirement already satisfied: decorator in c:\\users\\al_qema\\anaconda3\\lib\\site-packages (from ipython>=5.5.0->pycaret) (5.1.1)\n",
      "Requirement already satisfied: colorama in c:\\users\\al_qema\\anaconda3\\lib\\site-packages (from ipython>=5.5.0->pycaret) (0.4.5)\n",
      "Requirement already satisfied: traitlets>=4.2 in c:\\users\\al_qema\\anaconda3\\lib\\site-packages (from ipython>=5.5.0->pycaret) (5.1.1)\n",
      "Requirement already satisfied: prompt-toolkit!=3.0.0,!=3.0.1,<3.1.0,>=2.0.0 in c:\\users\\al_qema\\anaconda3\\lib\\site-packages (from ipython>=5.5.0->pycaret) (3.0.20)\n",
      "Requirement already satisfied: setuptools>=18.5 in c:\\users\\al_qema\\anaconda3\\lib\\site-packages (from ipython>=5.5.0->pycaret) (63.4.1)\n",
      "Requirement already satisfied: ipykernel>=4.5.1 in c:\\users\\al_qema\\anaconda3\\lib\\site-packages (from ipywidgets>=7.6.5->pycaret) (6.15.2)\n",
      "Requirement already satisfied: ipython-genutils~=0.2.0 in c:\\users\\al_qema\\anaconda3\\lib\\site-packages (from ipywidgets>=7.6.5->pycaret) (0.2.0)\n",
      "Requirement already satisfied: widgetsnbextension~=3.5.0 in c:\\users\\al_qema\\anaconda3\\lib\\site-packages (from ipywidgets>=7.6.5->pycaret) (3.5.2)\n",
      "Requirement already satisfied: jupyterlab-widgets>=1.0.0 in c:\\users\\al_qema\\anaconda3\\lib\\site-packages (from ipywidgets>=7.6.5->pycaret) (1.0.0)\n",
      "Requirement already satisfied: fonttools>=4.22.0 in c:\\users\\al_qema\\anaconda3\\lib\\site-packages (from matplotlib<3.8.0->pycaret) (4.25.0)\n",
      "Requirement already satisfied: kiwisolver>=1.0.1 in c:\\users\\al_qema\\anaconda3\\lib\\site-packages (from matplotlib<3.8.0->pycaret) (1.4.2)\n",
      "Requirement already satisfied: python-dateutil>=2.7 in c:\\users\\al_qema\\anaconda3\\lib\\site-packages (from matplotlib<3.8.0->pycaret) (2.8.2)\n",
      "Requirement already satisfied: cycler>=0.10 in c:\\users\\al_qema\\anaconda3\\lib\\site-packages (from matplotlib<3.8.0->pycaret) (0.11.0)\n",
      "Requirement already satisfied: pyparsing>=2.2.1 in c:\\users\\al_qema\\anaconda3\\lib\\site-packages (from matplotlib<3.8.0->pycaret) (3.0.9)\n",
      "Requirement already satisfied: pillow>=6.2.0 in c:\\users\\al_qema\\anaconda3\\lib\\site-packages (from matplotlib<3.8.0->pycaret) (9.2.0)\n",
      "Requirement already satisfied: jsonschema>=2.6 in c:\\users\\al_qema\\anaconda3\\lib\\site-packages (from nbformat>=4.2.0->pycaret) (4.16.0)\n",
      "Requirement already satisfied: jupyter_core in c:\\users\\al_qema\\anaconda3\\lib\\site-packages (from nbformat>=4.2.0->pycaret) (4.11.1)\n",
      "Requirement already satisfied: fastjsonschema in c:\\users\\al_qema\\anaconda3\\lib\\site-packages (from nbformat>=4.2.0->pycaret) (2.16.2)\n",
      "Requirement already satisfied: llvmlite<0.39,>=0.38.0rc1 in c:\\users\\al_qema\\anaconda3\\lib\\site-packages (from numba>=0.55.0->pycaret) (0.38.0)\n",
      "Requirement already satisfied: pytz>=2020.1 in c:\\users\\al_qema\\anaconda3\\lib\\site-packages (from pandas<2.2.0->pycaret) (2022.1)\n",
      "Requirement already satisfied: tenacity>=6.2.0 in c:\\users\\al_qema\\anaconda3\\lib\\site-packages (from plotly>=5.14.0->pycaret) (8.0.1)\n",
      "Requirement already satisfied: orjson<4.0.0,>=3.8.0 in c:\\users\\al_qema\\anaconda3\\lib\\site-packages (from plotly-resampler>=0.8.3.1->pycaret) (3.10.15)\n",
      "Requirement already satisfied: tsdownsample>=0.1.3 in c:\\users\\al_qema\\anaconda3\\lib\\site-packages (from plotly-resampler>=0.8.3.1->pycaret) (0.1.3)\n",
      "Requirement already satisfied: dash>=2.9.0 in c:\\users\\al_qema\\anaconda3\\lib\\site-packages (from plotly-resampler>=0.8.3.1->pycaret) (2.18.2)\n",
      "Requirement already satisfied: Cython!=0.29.18,!=0.29.31,>=0.29 in c:\\users\\al_qema\\anaconda3\\lib\\site-packages (from pmdarima>=2.0.4->pycaret) (0.29.32)\n",
      "Requirement already satisfied: urllib3 in c:\\users\\al_qema\\anaconda3\\lib\\site-packages (from pmdarima>=2.0.4->pycaret) (1.26.11)\n",
      "Requirement already satisfied: idna<4,>=2.5 in c:\\users\\al_qema\\anaconda3\\lib\\site-packages (from requests>=2.27.1->pycaret) (3.3)\n",
      "Requirement already satisfied: certifi>=2017.4.17 in c:\\users\\al_qema\\anaconda3\\lib\\site-packages (from requests>=2.27.1->pycaret) (2022.9.14)\n",
      "Requirement already satisfied: charset-normalizer<3,>=2 in c:\\users\\al_qema\\anaconda3\\lib\\site-packages (from requests>=2.27.1->pycaret) (2.0.4)\n",
      "Requirement already satisfied: dash-core-components==2.0.0 in c:\\users\\al_qema\\anaconda3\\lib\\site-packages (from dash>=2.9.0->plotly-resampler>=0.8.3.1->pycaret) (2.0.0)\n",
      "Requirement already satisfied: typing-extensions>=4.1.1 in c:\\users\\al_qema\\anaconda3\\lib\\site-packages (from dash>=2.9.0->plotly-resampler>=0.8.3.1->pycaret) (4.3.0)\n",
      "Requirement already satisfied: dash-html-components==2.0.0 in c:\\users\\al_qema\\anaconda3\\lib\\site-packages (from dash>=2.9.0->plotly-resampler>=0.8.3.1->pycaret) (2.0.0)\n",
      "Requirement already satisfied: Flask<3.1,>=1.0.4 in c:\\users\\al_qema\\anaconda3\\lib\\site-packages (from dash>=2.9.0->plotly-resampler>=0.8.3.1->pycaret) (1.1.2)\n",
      "Requirement already satisfied: Werkzeug<3.1 in c:\\users\\al_qema\\anaconda3\\lib\\site-packages (from dash>=2.9.0->plotly-resampler>=0.8.3.1->pycaret) (2.0.3)\n",
      "Requirement already satisfied: nest-asyncio in c:\\users\\al_qema\\anaconda3\\lib\\site-packages (from dash>=2.9.0->plotly-resampler>=0.8.3.1->pycaret) (1.5.5)\n",
      "Requirement already satisfied: dash-table==5.0.0 in c:\\users\\al_qema\\anaconda3\\lib\\site-packages (from dash>=2.9.0->plotly-resampler>=0.8.3.1->pycaret) (5.0.0)\n",
      "Requirement already satisfied: retrying in c:\\users\\al_qema\\anaconda3\\lib\\site-packages (from dash>=2.9.0->plotly-resampler>=0.8.3.1->pycaret) (1.3.4)\n",
      "Requirement already satisfied: jupyter-client>=6.1.12 in c:\\users\\al_qema\\anaconda3\\lib\\site-packages (from ipykernel>=4.5.1->ipywidgets>=7.6.5->pycaret) (7.3.4)\n",
      "Requirement already satisfied: tornado>=6.1 in c:\\users\\al_qema\\anaconda3\\lib\\site-packages (from ipykernel>=4.5.1->ipywidgets>=7.6.5->pycaret) (6.1)\n",
      "Requirement already satisfied: pyzmq>=17 in c:\\users\\al_qema\\anaconda3\\lib\\site-packages (from ipykernel>=4.5.1->ipywidgets>=7.6.5->pycaret) (23.2.0)\n",
      "Requirement already satisfied: debugpy>=1.0 in c:\\users\\al_qema\\anaconda3\\lib\\site-packages (from ipykernel>=4.5.1->ipywidgets>=7.6.5->pycaret) (1.5.1)\n",
      "Requirement already satisfied: parso<0.9.0,>=0.8.0 in c:\\users\\al_qema\\anaconda3\\lib\\site-packages (from jedi>=0.16->ipython>=5.5.0->pycaret) (0.8.3)\n",
      "Requirement already satisfied: attrs>=17.4.0 in c:\\users\\al_qema\\anaconda3\\lib\\site-packages (from jsonschema>=2.6->nbformat>=4.2.0->pycaret) (21.4.0)\n",
      "Requirement already satisfied: pyrsistent!=0.17.0,!=0.17.1,!=0.17.2,>=0.14.0 in c:\\users\\al_qema\\anaconda3\\lib\\site-packages (from jsonschema>=2.6->nbformat>=4.2.0->pycaret) (0.18.0)\n",
      "Requirement already satisfied: six in c:\\users\\al_qema\\anaconda3\\lib\\site-packages (from patsy>=0.5.1->category-encoders>=2.4.0->pycaret) (1.16.0)\n",
      "Requirement already satisfied: wcwidth in c:\\users\\al_qema\\anaconda3\\lib\\site-packages (from prompt-toolkit!=3.0.0,!=3.0.1,<3.1.0,>=2.0.0->ipython>=5.5.0->pycaret) (0.2.5)\n",
      "Requirement already satisfied: notebook>=4.4.1 in c:\\users\\al_qema\\anaconda3\\lib\\site-packages (from widgetsnbextension~=3.5.0->ipywidgets>=7.6.5->pycaret) (6.4.12)\n",
      "Requirement already satisfied: pywin32>=1.0 in c:\\users\\al_qema\\anaconda3\\lib\\site-packages (from jupyter_core->nbformat>=4.2.0->pycaret) (302)\n",
      "Requirement already satisfied: click>=5.1 in c:\\users\\al_qema\\anaconda3\\lib\\site-packages (from Flask<3.1,>=1.0.4->dash>=2.9.0->plotly-resampler>=0.8.3.1->pycaret) (8.1.8)\n",
      "Requirement already satisfied: itsdangerous>=0.24 in c:\\users\\al_qema\\anaconda3\\lib\\site-packages (from Flask<3.1,>=1.0.4->dash>=2.9.0->plotly-resampler>=0.8.3.1->pycaret) (2.0.1)\n",
      "Requirement already satisfied: entrypoints in c:\\users\\al_qema\\anaconda3\\lib\\site-packages (from jupyter-client>=6.1.12->ipykernel>=4.5.1->ipywidgets>=7.6.5->pycaret) (0.4)\n",
      "Requirement already satisfied: prometheus-client in c:\\users\\al_qema\\anaconda3\\lib\\site-packages (from notebook>=4.4.1->widgetsnbextension~=3.5.0->ipywidgets>=7.6.5->pycaret) (0.14.1)\n",
      "Requirement already satisfied: terminado>=0.8.3 in c:\\users\\al_qema\\anaconda3\\lib\\site-packages (from notebook>=4.4.1->widgetsnbextension~=3.5.0->ipywidgets>=7.6.5->pycaret) (0.13.1)\n",
      "Requirement already satisfied: argon2-cffi in c:\\users\\al_qema\\anaconda3\\lib\\site-packages (from notebook>=4.4.1->widgetsnbextension~=3.5.0->ipywidgets>=7.6.5->pycaret) (21.3.0)\n",
      "Requirement already satisfied: Send2Trash>=1.8.0 in c:\\users\\al_qema\\anaconda3\\lib\\site-packages (from notebook>=4.4.1->widgetsnbextension~=3.5.0->ipywidgets>=7.6.5->pycaret) (1.8.0)\n",
      "Requirement already satisfied: nbconvert>=5 in c:\\users\\al_qema\\anaconda3\\lib\\site-packages (from notebook>=4.4.1->widgetsnbextension~=3.5.0->ipywidgets>=7.6.5->pycaret) (6.4.4)\n",
      "Requirement already satisfied: testpath in c:\\users\\al_qema\\anaconda3\\lib\\site-packages (from nbconvert>=5->notebook>=4.4.1->widgetsnbextension~=3.5.0->ipywidgets>=7.6.5->pycaret) (0.6.0)\n",
      "Requirement already satisfied: defusedxml in c:\\users\\al_qema\\anaconda3\\lib\\site-packages (from nbconvert>=5->notebook>=4.4.1->widgetsnbextension~=3.5.0->ipywidgets>=7.6.5->pycaret) (0.7.1)\n",
      "Requirement already satisfied: beautifulsoup4 in c:\\users\\al_qema\\anaconda3\\lib\\site-packages (from nbconvert>=5->notebook>=4.4.1->widgetsnbextension~=3.5.0->ipywidgets>=7.6.5->pycaret) (4.11.1)\n",
      "Requirement already satisfied: nbclient<0.6.0,>=0.5.0 in c:\\users\\al_qema\\anaconda3\\lib\\site-packages (from nbconvert>=5->notebook>=4.4.1->widgetsnbextension~=3.5.0->ipywidgets>=7.6.5->pycaret) (0.5.13)\n",
      "Requirement already satisfied: mistune<2,>=0.8.1 in c:\\users\\al_qema\\anaconda3\\lib\\site-packages (from nbconvert>=5->notebook>=4.4.1->widgetsnbextension~=3.5.0->ipywidgets>=7.6.5->pycaret) (0.8.4)\n",
      "Requirement already satisfied: bleach in c:\\users\\al_qema\\anaconda3\\lib\\site-packages (from nbconvert>=5->notebook>=4.4.1->widgetsnbextension~=3.5.0->ipywidgets>=7.6.5->pycaret) (4.1.0)\n",
      "Requirement already satisfied: pandocfilters>=1.4.1 in c:\\users\\al_qema\\anaconda3\\lib\\site-packages (from nbconvert>=5->notebook>=4.4.1->widgetsnbextension~=3.5.0->ipywidgets>=7.6.5->pycaret) (1.5.0)\n",
      "Requirement already satisfied: jupyterlab-pygments in c:\\users\\al_qema\\anaconda3\\lib\\site-packages (from nbconvert>=5->notebook>=4.4.1->widgetsnbextension~=3.5.0->ipywidgets>=7.6.5->pycaret) (0.1.2)\n",
      "Requirement already satisfied: pywinpty>=1.1.0 in c:\\users\\al_qema\\anaconda3\\lib\\site-packages (from terminado>=0.8.3->notebook>=4.4.1->widgetsnbextension~=3.5.0->ipywidgets>=7.6.5->pycaret) (2.0.2)\n",
      "Requirement already satisfied: argon2-cffi-bindings in c:\\users\\al_qema\\anaconda3\\lib\\site-packages (from argon2-cffi->notebook>=4.4.1->widgetsnbextension~=3.5.0->ipywidgets>=7.6.5->pycaret) (21.2.0)\n",
      "Requirement already satisfied: cffi>=1.0.1 in c:\\users\\al_qema\\anaconda3\\lib\\site-packages (from argon2-cffi-bindings->argon2-cffi->notebook>=4.4.1->widgetsnbextension~=3.5.0->ipywidgets>=7.6.5->pycaret) (1.15.1)\n",
      "Requirement already satisfied: soupsieve>1.2 in c:\\users\\al_qema\\anaconda3\\lib\\site-packages (from beautifulsoup4->nbconvert>=5->notebook>=4.4.1->widgetsnbextension~=3.5.0->ipywidgets>=7.6.5->pycaret) (2.3.1)\n",
      "Requirement already satisfied: webencodings in c:\\users\\al_qema\\anaconda3\\lib\\site-packages (from bleach->nbconvert>=5->notebook>=4.4.1->widgetsnbextension~=3.5.0->ipywidgets>=7.6.5->pycaret) (0.5.1)\n",
      "Requirement already satisfied: pycparser in c:\\users\\al_qema\\anaconda3\\lib\\site-packages (from cffi>=1.0.1->argon2-cffi-bindings->argon2-cffi->notebook>=4.4.1->widgetsnbextension~=3.5.0->ipywidgets>=7.6.5->pycaret) (2.21)\n",
      "Note: you may need to restart the kernel to use updated packages.\n"
     ]
    }
   ],
   "source": [
    "pip install pycaret\n"
   ]
  },
  {
   "cell_type": "markdown",
   "id": "1b2ff9b7",
   "metadata": {},
   "source": [
    "# Import necessary libraries"
   ]
  },
  {
   "cell_type": "code",
   "execution_count": 29,
   "id": "72867ac8",
   "metadata": {},
   "outputs": [],
   "source": [
    "import pandas as pd\n",
    "from pycaret.regression import *\n",
    "import matplotlib.pyplot as plt\n",
    "import seaborn as sns"
   ]
  },
  {
   "cell_type": "markdown",
   "id": "5a5eddb4",
   "metadata": {},
   "source": [
    "### Step 1 : Read the dataset"
   ]
  },
  {
   "cell_type": "code",
   "execution_count": 53,
   "id": "3bee12db",
   "metadata": {},
   "outputs": [
    {
     "data": {
      "text/html": [
       "<div>\n",
       "<style scoped>\n",
       "    .dataframe tbody tr th:only-of-type {\n",
       "        vertical-align: middle;\n",
       "    }\n",
       "\n",
       "    .dataframe tbody tr th {\n",
       "        vertical-align: top;\n",
       "    }\n",
       "\n",
       "    .dataframe thead th {\n",
       "        text-align: right;\n",
       "    }\n",
       "</style>\n",
       "<table border=\"1\" class=\"dataframe\">\n",
       "  <thead>\n",
       "    <tr style=\"text-align: right;\">\n",
       "      <th></th>\n",
       "      <th>Gender</th>\n",
       "      <th>Age</th>\n",
       "      <th>Dur</th>\n",
       "      <th>PPV</th>\n",
       "    </tr>\n",
       "  </thead>\n",
       "  <tbody>\n",
       "    <tr>\n",
       "      <th>0</th>\n",
       "      <td>Male</td>\n",
       "      <td>0</td>\n",
       "      <td>20</td>\n",
       "      <td>15.198437</td>\n",
       "    </tr>\n",
       "    <tr>\n",
       "      <th>1</th>\n",
       "      <td>Male</td>\n",
       "      <td>0</td>\n",
       "      <td>21</td>\n",
       "      <td>15.741015</td>\n",
       "    </tr>\n",
       "    <tr>\n",
       "      <th>2</th>\n",
       "      <td>Male</td>\n",
       "      <td>0</td>\n",
       "      <td>22</td>\n",
       "      <td>16.267189</td>\n",
       "    </tr>\n",
       "    <tr>\n",
       "      <th>3</th>\n",
       "      <td>Male</td>\n",
       "      <td>0</td>\n",
       "      <td>23</td>\n",
       "      <td>16.777448</td>\n",
       "    </tr>\n",
       "    <tr>\n",
       "      <th>4</th>\n",
       "      <td>Male</td>\n",
       "      <td>0</td>\n",
       "      <td>24</td>\n",
       "      <td>17.272269</td>\n",
       "    </tr>\n",
       "  </tbody>\n",
       "</table>\n",
       "</div>"
      ],
      "text/plain": [
       "  Gender  Age  Dur        PPV\n",
       "0   Male    0   20  15.198437\n",
       "1   Male    0   21  15.741015\n",
       "2   Male    0   22  16.267189\n",
       "3   Male    0   23  16.777448\n",
       "4   Male    0   24  17.272269"
      ]
     },
     "execution_count": 53,
     "metadata": {},
     "output_type": "execute_result"
    }
   ],
   "source": [
    "# 1. Load the dataset and the first few rows\n",
    "df = pd.read_excel('TG_T_CashValues_Rel.xlsx')\n",
    "df.head()\n"
   ]
  },
  {
   "cell_type": "code",
   "execution_count": 54,
   "id": "ebd69fae",
   "metadata": {},
   "outputs": [
    {
     "name": "stdout",
     "output_type": "stream",
     "text": [
      "<class 'pandas.core.frame.DataFrame'>\n",
      "RangeIndex: 5270 entries, 0 to 5269\n",
      "Data columns (total 4 columns):\n",
      " #   Column  Non-Null Count  Dtype  \n",
      "---  ------  --------------  -----  \n",
      " 0   Gender  5270 non-null   object \n",
      " 1   Age     5270 non-null   int64  \n",
      " 2   Dur     5270 non-null   int64  \n",
      " 3   PPV     5270 non-null   float64\n",
      "dtypes: float64(1), int64(2), object(1)\n",
      "memory usage: 164.8+ KB\n"
     ]
    }
   ],
   "source": [
    "#display basic information\n",
    "df.info()"
   ]
  },
  {
   "cell_type": "markdown",
   "id": "00dd85ed",
   "metadata": {},
   "source": [
    "### Step 2: Data Preprossicing"
   ]
  },
  {
   "cell_type": "markdown",
   "id": "4eb3a14a",
   "metadata": {},
   "source": [
    "1. **Data Cleaning**: We will check for missing values, handle any data inconsistencies, and convert the necessary columns to appropriate data types."
   ]
  },
  {
   "cell_type": "markdown",
   "id": "8c7bf8a9",
   "metadata": {},
   "source": [
    "Show column names, datatypes along with the count of non-null values"
   ]
  },
  {
   "cell_type": "markdown",
   "id": "70c7fe08",
   "metadata": {},
   "source": [
    "Check for null values"
   ]
  },
  {
   "cell_type": "code",
   "execution_count": 55,
   "id": "b1d928ab",
   "metadata": {},
   "outputs": [
    {
     "name": "stdout",
     "output_type": "stream",
     "text": [
      "Gender    0\n",
      "Age       0\n",
      "Dur       0\n",
      "PPV       0\n",
      "dtype: int64\n"
     ]
    },
    {
     "data": {
      "text/plain": [
       "'No null value'"
      ]
     },
     "execution_count": 55,
     "metadata": {},
     "output_type": "execute_result"
    }
   ],
   "source": [
    "print(df.isnull().sum())\n",
    "'''No null value'''"
   ]
  },
  {
   "cell_type": "code",
   "execution_count": 56,
   "id": "e350d517",
   "metadata": {},
   "outputs": [
    {
     "name": "stdout",
     "output_type": "stream",
     "text": [
      "0\n"
     ]
    }
   ],
   "source": [
    "# Check for duplicates\n",
    "print(df.duplicated().sum())"
   ]
  },
  {
   "cell_type": "markdown",
   "id": "92237e6f",
   "metadata": {},
   "source": [
    "Check for inconsistent values\n",
    "\n",
    "`For age, dur (duration), and ppv (pay-per-view), they should be non-negative`"
   ]
  },
  {
   "cell_type": "code",
   "execution_count": 57,
   "id": "dc7477ac",
   "metadata": {},
   "outputs": [
    {
     "data": {
      "text/html": [
       "<div>\n",
       "<style scoped>\n",
       "    .dataframe tbody tr th:only-of-type {\n",
       "        vertical-align: middle;\n",
       "    }\n",
       "\n",
       "    .dataframe tbody tr th {\n",
       "        vertical-align: top;\n",
       "    }\n",
       "\n",
       "    .dataframe thead th {\n",
       "        text-align: right;\n",
       "    }\n",
       "</style>\n",
       "<table border=\"1\" class=\"dataframe\">\n",
       "  <thead>\n",
       "    <tr style=\"text-align: right;\">\n",
       "      <th></th>\n",
       "      <th>Gender</th>\n",
       "      <th>Age</th>\n",
       "      <th>Dur</th>\n",
       "      <th>PPV</th>\n",
       "    </tr>\n",
       "  </thead>\n",
       "  <tbody>\n",
       "  </tbody>\n",
       "</table>\n",
       "</div>"
      ],
      "text/plain": [
       "Empty DataFrame\n",
       "Columns: [Gender, Age, Dur, PPV]\n",
       "Index: []"
      ]
     },
     "execution_count": 57,
     "metadata": {},
     "output_type": "execute_result"
    }
   ],
   "source": [
    "df[df['Age'] < 0]"
   ]
  },
  {
   "cell_type": "code",
   "execution_count": 58,
   "id": "6dd7d31e",
   "metadata": {},
   "outputs": [
    {
     "data": {
      "text/html": [
       "<div>\n",
       "<style scoped>\n",
       "    .dataframe tbody tr th:only-of-type {\n",
       "        vertical-align: middle;\n",
       "    }\n",
       "\n",
       "    .dataframe tbody tr th {\n",
       "        vertical-align: top;\n",
       "    }\n",
       "\n",
       "    .dataframe thead th {\n",
       "        text-align: right;\n",
       "    }\n",
       "</style>\n",
       "<table border=\"1\" class=\"dataframe\">\n",
       "  <thead>\n",
       "    <tr style=\"text-align: right;\">\n",
       "      <th></th>\n",
       "      <th>Gender</th>\n",
       "      <th>Age</th>\n",
       "      <th>Dur</th>\n",
       "      <th>PPV</th>\n",
       "    </tr>\n",
       "  </thead>\n",
       "  <tbody>\n",
       "  </tbody>\n",
       "</table>\n",
       "</div>"
      ],
      "text/plain": [
       "Empty DataFrame\n",
       "Columns: [Gender, Age, Dur, PPV]\n",
       "Index: []"
      ]
     },
     "execution_count": 58,
     "metadata": {},
     "output_type": "execute_result"
    }
   ],
   "source": [
    "df[df['Dur'] < 0]"
   ]
  },
  {
   "cell_type": "code",
   "execution_count": 59,
   "id": "ee2c1e18",
   "metadata": {},
   "outputs": [
    {
     "data": {
      "text/html": [
       "<div>\n",
       "<style scoped>\n",
       "    .dataframe tbody tr th:only-of-type {\n",
       "        vertical-align: middle;\n",
       "    }\n",
       "\n",
       "    .dataframe tbody tr th {\n",
       "        vertical-align: top;\n",
       "    }\n",
       "\n",
       "    .dataframe thead th {\n",
       "        text-align: right;\n",
       "    }\n",
       "</style>\n",
       "<table border=\"1\" class=\"dataframe\">\n",
       "  <thead>\n",
       "    <tr style=\"text-align: right;\">\n",
       "      <th></th>\n",
       "      <th>Gender</th>\n",
       "      <th>Age</th>\n",
       "      <th>Dur</th>\n",
       "      <th>PPV</th>\n",
       "    </tr>\n",
       "  </thead>\n",
       "  <tbody>\n",
       "  </tbody>\n",
       "</table>\n",
       "</div>"
      ],
      "text/plain": [
       "Empty DataFrame\n",
       "Columns: [Gender, Age, Dur, PPV]\n",
       "Index: []"
      ]
     },
     "execution_count": 59,
     "metadata": {},
     "output_type": "execute_result"
    }
   ],
   "source": [
    "df[df['PPV'] < 0]"
   ]
  },
  {
   "cell_type": "markdown",
   "id": "65cb68be",
   "metadata": {},
   "source": [
    "No inconsistencies"
   ]
  },
  {
   "cell_type": "markdown",
   "id": "649a54a8",
   "metadata": {},
   "source": [
    "For the Gender attribute, it is a string type, in order to optimize the storage, we can convert it to category type if the unique values number is small"
   ]
  },
  {
   "cell_type": "code",
   "execution_count": 60,
   "id": "89efe55e",
   "metadata": {},
   "outputs": [
    {
     "data": {
      "text/plain": [
       "array(['Male', 'Female'], dtype=object)"
      ]
     },
     "execution_count": 60,
     "metadata": {},
     "output_type": "execute_result"
    }
   ],
   "source": [
    "df['Gender'].unique()"
   ]
  },
  {
   "cell_type": "markdown",
   "id": "c2a114bc",
   "metadata": {},
   "source": [
    "'''As we can see, there are just 2 unique values, so it is good to convert the type to category'''"
   ]
  },
  {
   "cell_type": "markdown",
   "id": "3f91c21b",
   "metadata": {},
   "source": [
    "### Step 3:**Feature Engineering**\n",
    "\n",
    "Convert categorical columns (such as Gender) into numeric values using encoding techniques."
   ]
  },
  {
   "cell_type": "code",
   "execution_count": 61,
   "id": "d30e2f4a",
   "metadata": {},
   "outputs": [
    {
     "name": "stdout",
     "output_type": "stream",
     "text": [
      "Converting 'Gender' to numerical values {'Male': 0, 'Female': 1}\n"
     ]
    }
   ],
   "source": [
    "print(\"Converting 'Gender' to numerical values {'Male': 0, 'Female': 1}\")\n",
    "df['Gender'] = df['Gender'].map({'Male': 0, 'Female': 1})"
   ]
  },
  {
   "cell_type": "code",
   "execution_count": 63,
   "id": "b389b28f",
   "metadata": {},
   "outputs": [],
   "source": [
    "# Ensure proper data types for memory optimization\n",
    "df['Gender'] = df['Gender'].astype('category')\n",
    "df['Age'] = df['Age'].astype('int8')\n",
    "df['PPV'] = df['PPV'].astype('float32')\n",
    "df['Dur']=df['Dur'].astype('int8')"
   ]
  },
  {
   "cell_type": "code",
   "execution_count": 64,
   "id": "2b02ad63",
   "metadata": {},
   "outputs": [
    {
     "data": {
      "text/plain": [
       "Gender    category\n",
       "Age           int8\n",
       "Dur           int8\n",
       "PPV        float32\n",
       "dtype: object"
      ]
     },
     "execution_count": 64,
     "metadata": {},
     "output_type": "execute_result"
    }
   ],
   "source": [
    "# Display updated data types\n",
    "df.dtypes"
   ]
  },
  {
   "cell_type": "code",
   "execution_count": 65,
   "id": "b62f1b33",
   "metadata": {},
   "outputs": [
    {
     "name": "stdout",
     "output_type": "stream",
     "text": [
      "<class 'pandas.core.frame.DataFrame'>\n",
      "RangeIndex: 5270 entries, 0 to 5269\n",
      "Data columns (total 4 columns):\n",
      " #   Column  Non-Null Count  Dtype   \n",
      "---  ------  --------------  -----   \n",
      " 0   Gender  5270 non-null   category\n",
      " 1   Age     5270 non-null   int8    \n",
      " 2   Dur     5270 non-null   int8    \n",
      " 3   PPV     5270 non-null   float32 \n",
      "dtypes: category(1), float32(1), int8(2)\n",
      "memory usage: 36.3 KB\n"
     ]
    }
   ],
   "source": [
    "df.info()"
   ]
  },
  {
   "cell_type": "markdown",
   "id": "5ca1d4e5",
   "metadata": {},
   "source": [
    "From 164.8+ KB to 36.3 KB, that's cool!\n",
    "\n",
    "less memory and better data"
   ]
  },
  {
   "cell_type": "markdown",
   "id": "f5042186",
   "metadata": {},
   "source": [
    "### Step 4: Exploratory Data Analysis"
   ]
  },
  {
   "cell_type": "code",
   "execution_count": 66,
   "id": "2bd2ddfc",
   "metadata": {},
   "outputs": [
    {
     "data": {
      "image/png": "[encoded data removed]",
      "text/plain": [
       "<Figure size 800x600 with 2 Axes>"
      ]
     },
     "metadata": {},
     "output_type": "display_data"
    }
   ],
   "source": [
    "# Correlation heatmap\n",
    "plt.figure(figsize=(8, 6))\n",
    "sns.heatmap(df.corr(), annot=True, cmap='coolwarm', fmt='.2f')\n",
    "plt.title(\"Correlation Heatmap\")\n",
    "plt.show()\n"
   ]
  },
  {
   "cell_type": "code",
   "execution_count": 67,
   "id": "3a572e78",
   "metadata": {},
   "outputs": [
    {
     "data": {
      "image/png": "[encoded data removed]",
      "text/plain": [
       "<Figure size 800x500 with 1 Axes>"
      ]
     },
     "metadata": {},
     "output_type": "display_data"
    }
   ],
   "source": [
    "# Distribution of target variable (PPV)\n",
    "plt.figure(figsize=(8, 5))\n",
    "sns.histplot(df['PPV'], kde=True, bins=30, color='blue')\n",
    "plt.title(\"Distribution of PPV\")\n",
    "plt.xlabel(\"PPV\")\n",
    "plt.ylabel(\"Frequency\")\n",
    "plt.show()"
   ]
  },
  {
   "cell_type": "markdown",
   "id": "2ec70e88",
   "metadata": {},
   "source": [
    "### Step 3: Model Selection and Training\n",
    "\n",
    "We will use PyCaret's regression module to automatically compare multiple machine learning models and select the best-performing one.\n",
    "\n",
    "We will evaluate models using the following metrics:\n",
    "- **RMSE (Root Mean Squared Error)**\n",
    "- **MAE (Mean Absolute Error)**\n",
    "\n",
    "These metrics will allow us to determine the model that best fits the data and provides accurate predictions.\n",
    "\n"
   ]
  },
  {
   "cell_type": "code",
   "execution_count": 68,
   "id": "a9caabc3",
   "metadata": {},
   "outputs": [
    {
     "name": "stdout",
     "output_type": "stream",
     "text": [
      "Initializing PyCaret setup...\n"
     ]
    },
    {
     "data": {
      "text/html": [
       "<style type=\"text/css\">\n",
       "#T_feee8_row9_col1 {\n",
       "  background-color: lightgreen;\n",
       "}\n",
       "</style>\n",
       "<table id=\"T_feee8\">\n",
       "  <thead>\n",
       "    <tr>\n",
       "      <th class=\"blank level0\" >&nbsp;</th>\n",
       "      <th id=\"T_feee8_level0_col0\" class=\"col_heading level0 col0\" >Description</th>\n",
       "      <th id=\"T_feee8_level0_col1\" class=\"col_heading level0 col1\" >Value</th>\n",
       "    </tr>\n",
       "  </thead>\n",
       "  <tbody>\n",
       "    <tr>\n",
       "      <th id=\"T_feee8_level0_row0\" class=\"row_heading level0 row0\" >0</th>\n",
       "      <td id=\"T_feee8_row0_col0\" class=\"data row0 col0\" >Session id</td>\n",
       "      <td id=\"T_feee8_row0_col1\" class=\"data row0 col1\" >6925</td>\n",
       "    </tr>\n",
       "    <tr>\n",
       "      <th id=\"T_feee8_level0_row1\" class=\"row_heading level0 row1\" >1</th>\n",
       "      <td id=\"T_feee8_row1_col0\" class=\"data row1 col0\" >Target</td>\n",
       "      <td id=\"T_feee8_row1_col1\" class=\"data row1 col1\" >PPV</td>\n",
       "    </tr>\n",
       "    <tr>\n",
       "      <th id=\"T_feee8_level0_row2\" class=\"row_heading level0 row2\" >2</th>\n",
       "      <td id=\"T_feee8_row2_col0\" class=\"data row2 col0\" >Target type</td>\n",
       "      <td id=\"T_feee8_row2_col1\" class=\"data row2 col1\" >Regression</td>\n",
       "    </tr>\n",
       "    <tr>\n",
       "      <th id=\"T_feee8_level0_row3\" class=\"row_heading level0 row3\" >3</th>\n",
       "      <td id=\"T_feee8_row3_col0\" class=\"data row3 col0\" >Original data shape</td>\n",
       "      <td id=\"T_feee8_row3_col1\" class=\"data row3 col1\" >(5270, 4)</td>\n",
       "    </tr>\n",
       "    <tr>\n",
       "      <th id=\"T_feee8_level0_row4\" class=\"row_heading level0 row4\" >4</th>\n",
       "      <td id=\"T_feee8_row4_col0\" class=\"data row4 col0\" >Transformed data shape</td>\n",
       "      <td id=\"T_feee8_row4_col1\" class=\"data row4 col1\" >(5270, 4)</td>\n",
       "    </tr>\n",
       "    <tr>\n",
       "      <th id=\"T_feee8_level0_row5\" class=\"row_heading level0 row5\" >5</th>\n",
       "      <td id=\"T_feee8_row5_col0\" class=\"data row5 col0\" >Transformed train set shape</td>\n",
       "      <td id=\"T_feee8_row5_col1\" class=\"data row5 col1\" >(3688, 4)</td>\n",
       "    </tr>\n",
       "    <tr>\n",
       "      <th id=\"T_feee8_level0_row6\" class=\"row_heading level0 row6\" >6</th>\n",
       "      <td id=\"T_feee8_row6_col0\" class=\"data row6 col0\" >Transformed test set shape</td>\n",
       "      <td id=\"T_feee8_row6_col1\" class=\"data row6 col1\" >(1582, 4)</td>\n",
       "    </tr>\n",
       "    <tr>\n",
       "      <th id=\"T_feee8_level0_row7\" class=\"row_heading level0 row7\" >7</th>\n",
       "      <td id=\"T_feee8_row7_col0\" class=\"data row7 col0\" >Numeric features</td>\n",
       "      <td id=\"T_feee8_row7_col1\" class=\"data row7 col1\" >2</td>\n",
       "    </tr>\n",
       "    <tr>\n",
       "      <th id=\"T_feee8_level0_row8\" class=\"row_heading level0 row8\" >8</th>\n",
       "      <td id=\"T_feee8_row8_col0\" class=\"data row8 col0\" >Categorical features</td>\n",
       "      <td id=\"T_feee8_row8_col1\" class=\"data row8 col1\" >1</td>\n",
       "    </tr>\n",
       "    <tr>\n",
       "      <th id=\"T_feee8_level0_row9\" class=\"row_heading level0 row9\" >9</th>\n",
       "      <td id=\"T_feee8_row9_col0\" class=\"data row9 col0\" >Preprocess</td>\n",
       "      <td id=\"T_feee8_row9_col1\" class=\"data row9 col1\" >True</td>\n",
       "    </tr>\n",
       "    <tr>\n",
       "      <th id=\"T_feee8_level0_row10\" class=\"row_heading level0 row10\" >10</th>\n",
       "      <td id=\"T_feee8_row10_col0\" class=\"data row10 col0\" >Imputation type</td>\n",
       "      <td id=\"T_feee8_row10_col1\" class=\"data row10 col1\" >simple</td>\n",
       "    </tr>\n",
       "    <tr>\n",
       "      <th id=\"T_feee8_level0_row11\" class=\"row_heading level0 row11\" >11</th>\n",
       "      <td id=\"T_feee8_row11_col0\" class=\"data row11 col0\" >Numeric imputation</td>\n",
       "      <td id=\"T_feee8_row11_col1\" class=\"data row11 col1\" >mean</td>\n",
       "    </tr>\n",
       "    <tr>\n",
       "      <th id=\"T_feee8_level0_row12\" class=\"row_heading level0 row12\" >12</th>\n",
       "      <td id=\"T_feee8_row12_col0\" class=\"data row12 col0\" >Categorical imputation</td>\n",
       "      <td id=\"T_feee8_row12_col1\" class=\"data row12 col1\" >mode</td>\n",
       "    </tr>\n",
       "    <tr>\n",
       "      <th id=\"T_feee8_level0_row13\" class=\"row_heading level0 row13\" >13</th>\n",
       "      <td id=\"T_feee8_row13_col0\" class=\"data row13 col0\" >Maximum one-hot encoding</td>\n",
       "      <td id=\"T_feee8_row13_col1\" class=\"data row13 col1\" >25</td>\n",
       "    </tr>\n",
       "    <tr>\n",
       "      <th id=\"T_feee8_level0_row14\" class=\"row_heading level0 row14\" >14</th>\n",
       "      <td id=\"T_feee8_row14_col0\" class=\"data row14 col0\" >Encoding method</td>\n",
       "      <td id=\"T_feee8_row14_col1\" class=\"data row14 col1\" >None</td>\n",
       "    </tr>\n",
       "    <tr>\n",
       "      <th id=\"T_feee8_level0_row15\" class=\"row_heading level0 row15\" >15</th>\n",
       "      <td id=\"T_feee8_row15_col0\" class=\"data row15 col0\" >Fold Generator</td>\n",
       "      <td id=\"T_feee8_row15_col1\" class=\"data row15 col1\" >KFold</td>\n",
       "    </tr>\n",
       "    <tr>\n",
       "      <th id=\"T_feee8_level0_row16\" class=\"row_heading level0 row16\" >16</th>\n",
       "      <td id=\"T_feee8_row16_col0\" class=\"data row16 col0\" >Fold Number</td>\n",
       "      <td id=\"T_feee8_row16_col1\" class=\"data row16 col1\" >10</td>\n",
       "    </tr>\n",
       "    <tr>\n",
       "      <th id=\"T_feee8_level0_row17\" class=\"row_heading level0 row17\" >17</th>\n",
       "      <td id=\"T_feee8_row17_col0\" class=\"data row17 col0\" >CPU Jobs</td>\n",
       "      <td id=\"T_feee8_row17_col1\" class=\"data row17 col1\" >-1</td>\n",
       "    </tr>\n",
       "    <tr>\n",
       "      <th id=\"T_feee8_level0_row18\" class=\"row_heading level0 row18\" >18</th>\n",
       "      <td id=\"T_feee8_row18_col0\" class=\"data row18 col0\" >Use GPU</td>\n",
       "      <td id=\"T_feee8_row18_col1\" class=\"data row18 col1\" >False</td>\n",
       "    </tr>\n",
       "    <tr>\n",
       "      <th id=\"T_feee8_level0_row19\" class=\"row_heading level0 row19\" >19</th>\n",
       "      <td id=\"T_feee8_row19_col0\" class=\"data row19 col0\" >Log Experiment</td>\n",
       "      <td id=\"T_feee8_row19_col1\" class=\"data row19 col1\" >False</td>\n",
       "    </tr>\n",
       "    <tr>\n",
       "      <th id=\"T_feee8_level0_row20\" class=\"row_heading level0 row20\" >20</th>\n",
       "      <td id=\"T_feee8_row20_col0\" class=\"data row20 col0\" >Experiment Name</td>\n",
       "      <td id=\"T_feee8_row20_col1\" class=\"data row20 col1\" >reg-default-name</td>\n",
       "    </tr>\n",
       "    <tr>\n",
       "      <th id=\"T_feee8_level0_row21\" class=\"row_heading level0 row21\" >21</th>\n",
       "      <td id=\"T_feee8_row21_col0\" class=\"data row21 col0\" >USI</td>\n",
       "      <td id=\"T_feee8_row21_col1\" class=\"data row21 col1\" >e172</td>\n",
       "    </tr>\n",
       "  </tbody>\n",
       "</table>\n"
      ],
      "text/plain": [
       "<pandas.io.formats.style.Styler at 0x2329fee9ee0>"
      ]
     },
     "metadata": {},
     "output_type": "display_data"
    }
   ],
   "source": [
    "print(\"Initializing PyCaret setup...\")\n",
    "# setup PyCaret \n",
    "exp = setup(df, target='PPV', categorical_features=['Gender'], fold=10)"
   ]
  },
  {
   "cell_type": "code",
   "execution_count": 69,
   "id": "8847df48",
   "metadata": {},
   "outputs": [
    {
     "name": "stdout",
     "output_type": "stream",
     "text": [
      "Comparing models...\n"
     ]
    },
    {
     "data": {
      "text/html": [],
      "text/plain": [
       "<IPython.core.display.HTML object>"
      ]
     },
     "metadata": {},
     "output_type": "display_data"
    },
    {
     "data": {
      "text/html": [
       "<style type=\"text/css\">\n",
       "#T_bdd08 th {\n",
       "  text-align: left;\n",
       "}\n",
       "#T_bdd08_row0_col0, #T_bdd08_row1_col0, #T_bdd08_row1_col1, #T_bdd08_row1_col2, #T_bdd08_row1_col3, #T_bdd08_row1_col4, #T_bdd08_row1_col5, #T_bdd08_row1_col6, #T_bdd08_row2_col0, #T_bdd08_row2_col1, #T_bdd08_row2_col2, #T_bdd08_row2_col3, #T_bdd08_row2_col4, #T_bdd08_row2_col5, #T_bdd08_row2_col6, #T_bdd08_row3_col0, #T_bdd08_row3_col1, #T_bdd08_row3_col2, #T_bdd08_row3_col3, #T_bdd08_row3_col4, #T_bdd08_row3_col5, #T_bdd08_row3_col6, #T_bdd08_row4_col0, #T_bdd08_row4_col1, #T_bdd08_row4_col2, #T_bdd08_row4_col3, #T_bdd08_row4_col4, #T_bdd08_row4_col5, #T_bdd08_row4_col6, #T_bdd08_row5_col0, #T_bdd08_row5_col1, #T_bdd08_row5_col2, #T_bdd08_row5_col3, #T_bdd08_row5_col4, #T_bdd08_row5_col5, #T_bdd08_row5_col6, #T_bdd08_row6_col0, #T_bdd08_row6_col1, #T_bdd08_row6_col2, #T_bdd08_row6_col3, #T_bdd08_row6_col4, #T_bdd08_row6_col5, #T_bdd08_row6_col6, #T_bdd08_row7_col0, #T_bdd08_row7_col1, #T_bdd08_row7_col2, #T_bdd08_row7_col3, #T_bdd08_row7_col4, #T_bdd08_row7_col5, #T_bdd08_row7_col6, #T_bdd08_row8_col0, #T_bdd08_row8_col1, #T_bdd08_row8_col2, #T_bdd08_row8_col3, #T_bdd08_row8_col4, #T_bdd08_row8_col5, #T_bdd08_row8_col6, #T_bdd08_row9_col0, #T_bdd08_row9_col1, #T_bdd08_row9_col2, #T_bdd08_row9_col3, #T_bdd08_row9_col4, #T_bdd08_row9_col5, #T_bdd08_row9_col6, #T_bdd08_row10_col0, #T_bdd08_row10_col1, #T_bdd08_row10_col2, #T_bdd08_row10_col3, #T_bdd08_row10_col4, #T_bdd08_row10_col5, #T_bdd08_row10_col6, #T_bdd08_row11_col0, #T_bdd08_row11_col1, #T_bdd08_row11_col2, #T_bdd08_row11_col3, #T_bdd08_row11_col4, #T_bdd08_row11_col5, #T_bdd08_row11_col6, #T_bdd08_row12_col0, #T_bdd08_row12_col1, #T_bdd08_row12_col2, #T_bdd08_row12_col3, #T_bdd08_row12_col4, #T_bdd08_row12_col5, #T_bdd08_row12_col6, #T_bdd08_row13_col0, #T_bdd08_row13_col1, #T_bdd08_row13_col2, #T_bdd08_row13_col3, #T_bdd08_row13_col4, #T_bdd08_row13_col5, #T_bdd08_row13_col6, #T_bdd08_row14_col0, #T_bdd08_row14_col1, #T_bdd08_row14_col2, #T_bdd08_row14_col3, #T_bdd08_row14_col4, #T_bdd08_row14_col5, #T_bdd08_row14_col6, #T_bdd08_row15_col0, #T_bdd08_row15_col1, #T_bdd08_row15_col2, #T_bdd08_row15_col3, #T_bdd08_row15_col4, #T_bdd08_row15_col5, #T_bdd08_row15_col6, #T_bdd08_row16_col0, #T_bdd08_row16_col1, #T_bdd08_row16_col2, #T_bdd08_row16_col3, #T_bdd08_row16_col4, #T_bdd08_row16_col5, #T_bdd08_row16_col6, #T_bdd08_row17_col0, #T_bdd08_row17_col1, #T_bdd08_row17_col2, #T_bdd08_row17_col3, #T_bdd08_row17_col4, #T_bdd08_row17_col5, #T_bdd08_row17_col6 {\n",
       "  text-align: left;\n",
       "}\n",
       "#T_bdd08_row0_col1, #T_bdd08_row0_col2, #T_bdd08_row0_col3, #T_bdd08_row0_col4, #T_bdd08_row0_col5, #T_bdd08_row0_col6 {\n",
       "  text-align: left;\n",
       "  background-color: yellow;\n",
       "}\n",
       "#T_bdd08_row0_col7, #T_bdd08_row1_col7, #T_bdd08_row2_col7, #T_bdd08_row3_col7, #T_bdd08_row4_col7, #T_bdd08_row5_col7, #T_bdd08_row6_col7, #T_bdd08_row7_col7, #T_bdd08_row8_col7, #T_bdd08_row9_col7, #T_bdd08_row10_col7, #T_bdd08_row11_col7, #T_bdd08_row13_col7, #T_bdd08_row14_col7, #T_bdd08_row15_col7, #T_bdd08_row16_col7, #T_bdd08_row17_col7 {\n",
       "  text-align: left;\n",
       "  background-color: lightgrey;\n",
       "}\n",
       "#T_bdd08_row12_col7 {\n",
       "  text-align: left;\n",
       "  background-color: yellow;\n",
       "  background-color: lightgrey;\n",
       "}\n",
       "</style>\n",
       "<table id=\"T_bdd08\">\n",
       "  <thead>\n",
       "    <tr>\n",
       "      <th class=\"blank level0\" >&nbsp;</th>\n",
       "      <th id=\"T_bdd08_level0_col0\" class=\"col_heading level0 col0\" >Model</th>\n",
       "      <th id=\"T_bdd08_level0_col1\" class=\"col_heading level0 col1\" >MAE</th>\n",
       "      <th id=\"T_bdd08_level0_col2\" class=\"col_heading level0 col2\" >MSE</th>\n",
       "      <th id=\"T_bdd08_level0_col3\" class=\"col_heading level0 col3\" >RMSE</th>\n",
       "      <th id=\"T_bdd08_level0_col4\" class=\"col_heading level0 col4\" >R2</th>\n",
       "      <th id=\"T_bdd08_level0_col5\" class=\"col_heading level0 col5\" >RMSLE</th>\n",
       "      <th id=\"T_bdd08_level0_col6\" class=\"col_heading level0 col6\" >MAPE</th>\n",
       "      <th id=\"T_bdd08_level0_col7\" class=\"col_heading level0 col7\" >TT (Sec)</th>\n",
       "    </tr>\n",
       "  </thead>\n",
       "  <tbody>\n",
       "    <tr>\n",
       "      <th id=\"T_bdd08_level0_row0\" class=\"row_heading level0 row0\" >et</th>\n",
       "      <td id=\"T_bdd08_row0_col0\" class=\"data row0 col0\" >Extra Trees Regressor</td>\n",
       "      <td id=\"T_bdd08_row0_col1\" class=\"data row0 col1\" >0.0096</td>\n",
       "      <td id=\"T_bdd08_row0_col2\" class=\"data row0 col2\" >0.0007</td>\n",
       "      <td id=\"T_bdd08_row0_col3\" class=\"data row0 col3\" >0.0263</td>\n",
       "      <td id=\"T_bdd08_row0_col4\" class=\"data row0 col4\" >1.0000</td>\n",
       "      <td id=\"T_bdd08_row0_col5\" class=\"data row0 col5\" >0.0020</td>\n",
       "      <td id=\"T_bdd08_row0_col6\" class=\"data row0 col6\" >0.0007</td>\n",
       "      <td id=\"T_bdd08_row0_col7\" class=\"data row0 col7\" >0.1870</td>\n",
       "    </tr>\n",
       "    <tr>\n",
       "      <th id=\"T_bdd08_level0_row1\" class=\"row_heading level0 row1\" >rf</th>\n",
       "      <td id=\"T_bdd08_row1_col0\" class=\"data row1 col0\" >Random Forest Regressor</td>\n",
       "      <td id=\"T_bdd08_row1_col1\" class=\"data row1 col1\" >0.0357</td>\n",
       "      <td id=\"T_bdd08_row1_col2\" class=\"data row1 col2\" >0.0039</td>\n",
       "      <td id=\"T_bdd08_row1_col3\" class=\"data row1 col3\" >0.0625</td>\n",
       "      <td id=\"T_bdd08_row1_col4\" class=\"data row1 col4\" >0.9999</td>\n",
       "      <td id=\"T_bdd08_row1_col5\" class=\"data row1 col5\" >0.0049</td>\n",
       "      <td id=\"T_bdd08_row1_col6\" class=\"data row1 col6\" >0.0028</td>\n",
       "      <td id=\"T_bdd08_row1_col7\" class=\"data row1 col7\" >0.2250</td>\n",
       "    </tr>\n",
       "    <tr>\n",
       "      <th id=\"T_bdd08_level0_row2\" class=\"row_heading level0 row2\" >lightgbm</th>\n",
       "      <td id=\"T_bdd08_row2_col0\" class=\"data row2 col0\" >Light Gradient Boosting Machine</td>\n",
       "      <td id=\"T_bdd08_row2_col1\" class=\"data row2 col1\" >0.0341</td>\n",
       "      <td id=\"T_bdd08_row2_col2\" class=\"data row2 col2\" >0.0044</td>\n",
       "      <td id=\"T_bdd08_row2_col3\" class=\"data row2 col3\" >0.0659</td>\n",
       "      <td id=\"T_bdd08_row2_col4\" class=\"data row2 col4\" >0.9999</td>\n",
       "      <td id=\"T_bdd08_row2_col5\" class=\"data row2 col5\" >0.0047</td>\n",
       "      <td id=\"T_bdd08_row2_col6\" class=\"data row2 col6\" >0.0027</td>\n",
       "      <td id=\"T_bdd08_row2_col7\" class=\"data row2 col7\" >0.1650</td>\n",
       "    </tr>\n",
       "    <tr>\n",
       "      <th id=\"T_bdd08_level0_row3\" class=\"row_heading level0 row3\" >dt</th>\n",
       "      <td id=\"T_bdd08_row3_col0\" class=\"data row3 col0\" >Decision Tree Regressor</td>\n",
       "      <td id=\"T_bdd08_row3_col1\" class=\"data row3 col1\" >0.0529</td>\n",
       "      <td id=\"T_bdd08_row3_col2\" class=\"data row3 col2\" >0.0099</td>\n",
       "      <td id=\"T_bdd08_row3_col3\" class=\"data row3 col3\" >0.0991</td>\n",
       "      <td id=\"T_bdd08_row3_col4\" class=\"data row3 col4\" >0.9998</td>\n",
       "      <td id=\"T_bdd08_row3_col5\" class=\"data row3 col5\" >0.0068</td>\n",
       "      <td id=\"T_bdd08_row3_col6\" class=\"data row3 col6\" >0.0037</td>\n",
       "      <td id=\"T_bdd08_row3_col7\" class=\"data row3 col7\" >0.0250</td>\n",
       "    </tr>\n",
       "    <tr>\n",
       "      <th id=\"T_bdd08_level0_row4\" class=\"row_heading level0 row4\" >gbr</th>\n",
       "      <td id=\"T_bdd08_row4_col0\" class=\"data row4 col0\" >Gradient Boosting Regressor</td>\n",
       "      <td id=\"T_bdd08_row4_col1\" class=\"data row4 col1\" >0.0810</td>\n",
       "      <td id=\"T_bdd08_row4_col2\" class=\"data row4 col2\" >0.0179</td>\n",
       "      <td id=\"T_bdd08_row4_col3\" class=\"data row4 col3\" >0.1328</td>\n",
       "      <td id=\"T_bdd08_row4_col4\" class=\"data row4 col4\" >0.9996</td>\n",
       "      <td id=\"T_bdd08_row4_col5\" class=\"data row4 col5\" >0.0117</td>\n",
       "      <td id=\"T_bdd08_row4_col6\" class=\"data row4 col6\" >0.0082</td>\n",
       "      <td id=\"T_bdd08_row4_col7\" class=\"data row4 col7\" >0.0810</td>\n",
       "    </tr>\n",
       "    <tr>\n",
       "      <th id=\"T_bdd08_level0_row5\" class=\"row_heading level0 row5\" >knn</th>\n",
       "      <td id=\"T_bdd08_row5_col0\" class=\"data row5 col0\" >K Neighbors Regressor</td>\n",
       "      <td id=\"T_bdd08_row5_col1\" class=\"data row5 col1\" >0.1736</td>\n",
       "      <td id=\"T_bdd08_row5_col2\" class=\"data row5 col2\" >0.0579</td>\n",
       "      <td id=\"T_bdd08_row5_col3\" class=\"data row5 col3\" >0.2402</td>\n",
       "      <td id=\"T_bdd08_row5_col4\" class=\"data row5 col4\" >0.9988</td>\n",
       "      <td id=\"T_bdd08_row5_col5\" class=\"data row5 col5\" >0.0389</td>\n",
       "      <td id=\"T_bdd08_row5_col6\" class=\"data row5 col6\" >0.0262</td>\n",
       "      <td id=\"T_bdd08_row5_col7\" class=\"data row5 col7\" >0.0280</td>\n",
       "    </tr>\n",
       "    <tr>\n",
       "      <th id=\"T_bdd08_level0_row6\" class=\"row_heading level0 row6\" >ada</th>\n",
       "      <td id=\"T_bdd08_row6_col0\" class=\"data row6 col0\" >AdaBoost Regressor</td>\n",
       "      <td id=\"T_bdd08_row6_col1\" class=\"data row6 col1\" >0.5505</td>\n",
       "      <td id=\"T_bdd08_row6_col2\" class=\"data row6 col2\" >0.4333</td>\n",
       "      <td id=\"T_bdd08_row6_col3\" class=\"data row6 col3\" >0.6578</td>\n",
       "      <td id=\"T_bdd08_row6_col4\" class=\"data row6 col4\" >0.9910</td>\n",
       "      <td id=\"T_bdd08_row6_col5\" class=\"data row6 col5\" >0.0933</td>\n",
       "      <td id=\"T_bdd08_row6_col6\" class=\"data row6 col6\" >0.0744</td>\n",
       "      <td id=\"T_bdd08_row6_col7\" class=\"data row6 col7\" >0.0900</td>\n",
       "    </tr>\n",
       "    <tr>\n",
       "      <th id=\"T_bdd08_level0_row7\" class=\"row_heading level0 row7\" >lar</th>\n",
       "      <td id=\"T_bdd08_row7_col0\" class=\"data row7 col0\" >Least Angle Regression</td>\n",
       "      <td id=\"T_bdd08_row7_col1\" class=\"data row7 col1\" >1.0852</td>\n",
       "      <td id=\"T_bdd08_row7_col2\" class=\"data row7 col2\" >1.7087</td>\n",
       "      <td id=\"T_bdd08_row7_col3\" class=\"data row7 col3\" >1.3066</td>\n",
       "      <td id=\"T_bdd08_row7_col4\" class=\"data row7 col4\" >0.9647</td>\n",
       "      <td id=\"T_bdd08_row7_col5\" class=\"data row7 col5\" >0.1900</td>\n",
       "      <td id=\"T_bdd08_row7_col6\" class=\"data row7 col6\" >0.1762</td>\n",
       "      <td id=\"T_bdd08_row7_col7\" class=\"data row7 col7\" >0.0220</td>\n",
       "    </tr>\n",
       "    <tr>\n",
       "      <th id=\"T_bdd08_level0_row8\" class=\"row_heading level0 row8\" >br</th>\n",
       "      <td id=\"T_bdd08_row8_col0\" class=\"data row8 col0\" >Bayesian Ridge</td>\n",
       "      <td id=\"T_bdd08_row8_col1\" class=\"data row8 col1\" >1.0853</td>\n",
       "      <td id=\"T_bdd08_row8_col2\" class=\"data row8 col2\" >1.7087</td>\n",
       "      <td id=\"T_bdd08_row8_col3\" class=\"data row8 col3\" >1.3066</td>\n",
       "      <td id=\"T_bdd08_row8_col4\" class=\"data row8 col4\" >0.9647</td>\n",
       "      <td id=\"T_bdd08_row8_col5\" class=\"data row8 col5\" >0.1900</td>\n",
       "      <td id=\"T_bdd08_row8_col6\" class=\"data row8 col6\" >0.1762</td>\n",
       "      <td id=\"T_bdd08_row8_col7\" class=\"data row8 col7\" >0.0200</td>\n",
       "    </tr>\n",
       "    <tr>\n",
       "      <th id=\"T_bdd08_level0_row9\" class=\"row_heading level0 row9\" >ridge</th>\n",
       "      <td id=\"T_bdd08_row9_col0\" class=\"data row9 col0\" >Ridge Regression</td>\n",
       "      <td id=\"T_bdd08_row9_col1\" class=\"data row9 col1\" >1.0852</td>\n",
       "      <td id=\"T_bdd08_row9_col2\" class=\"data row9 col2\" >1.7087</td>\n",
       "      <td id=\"T_bdd08_row9_col3\" class=\"data row9 col3\" >1.3066</td>\n",
       "      <td id=\"T_bdd08_row9_col4\" class=\"data row9 col4\" >0.9647</td>\n",
       "      <td id=\"T_bdd08_row9_col5\" class=\"data row9 col5\" >0.1900</td>\n",
       "      <td id=\"T_bdd08_row9_col6\" class=\"data row9 col6\" >0.1762</td>\n",
       "      <td id=\"T_bdd08_row9_col7\" class=\"data row9 col7\" >0.0180</td>\n",
       "    </tr>\n",
       "    <tr>\n",
       "      <th id=\"T_bdd08_level0_row10\" class=\"row_heading level0 row10\" >lr</th>\n",
       "      <td id=\"T_bdd08_row10_col0\" class=\"data row10 col0\" >Linear Regression</td>\n",
       "      <td id=\"T_bdd08_row10_col1\" class=\"data row10 col1\" >1.0852</td>\n",
       "      <td id=\"T_bdd08_row10_col2\" class=\"data row10 col2\" >1.7087</td>\n",
       "      <td id=\"T_bdd08_row10_col3\" class=\"data row10 col3\" >1.3066</td>\n",
       "      <td id=\"T_bdd08_row10_col4\" class=\"data row10 col4\" >0.9647</td>\n",
       "      <td id=\"T_bdd08_row10_col5\" class=\"data row10 col5\" >0.1900</td>\n",
       "      <td id=\"T_bdd08_row10_col6\" class=\"data row10 col6\" >0.1762</td>\n",
       "      <td id=\"T_bdd08_row10_col7\" class=\"data row10 col7\" >1.0450</td>\n",
       "    </tr>\n",
       "    <tr>\n",
       "      <th id=\"T_bdd08_level0_row11\" class=\"row_heading level0 row11\" >lasso</th>\n",
       "      <td id=\"T_bdd08_row11_col0\" class=\"data row11 col0\" >Lasso Regression</td>\n",
       "      <td id=\"T_bdd08_row11_col1\" class=\"data row11 col1\" >1.0987</td>\n",
       "      <td id=\"T_bdd08_row11_col2\" class=\"data row11 col2\" >1.7434</td>\n",
       "      <td id=\"T_bdd08_row11_col3\" class=\"data row11 col3\" >1.3198</td>\n",
       "      <td id=\"T_bdd08_row11_col4\" class=\"data row11 col4\" >0.9640</td>\n",
       "      <td id=\"T_bdd08_row11_col5\" class=\"data row11 col5\" >0.1960</td>\n",
       "      <td id=\"T_bdd08_row11_col6\" class=\"data row11 col6\" >0.1830</td>\n",
       "      <td id=\"T_bdd08_row11_col7\" class=\"data row11 col7\" >0.0190</td>\n",
       "    </tr>\n",
       "    <tr>\n",
       "      <th id=\"T_bdd08_level0_row12\" class=\"row_heading level0 row12\" >en</th>\n",
       "      <td id=\"T_bdd08_row12_col0\" class=\"data row12 col0\" >Elastic Net</td>\n",
       "      <td id=\"T_bdd08_row12_col1\" class=\"data row12 col1\" >1.0967</td>\n",
       "      <td id=\"T_bdd08_row12_col2\" class=\"data row12 col2\" >1.7406</td>\n",
       "      <td id=\"T_bdd08_row12_col3\" class=\"data row12 col3\" >1.3188</td>\n",
       "      <td id=\"T_bdd08_row12_col4\" class=\"data row12 col4\" >0.9640</td>\n",
       "      <td id=\"T_bdd08_row12_col5\" class=\"data row12 col5\" >0.1944</td>\n",
       "      <td id=\"T_bdd08_row12_col6\" class=\"data row12 col6\" >0.1813</td>\n",
       "      <td id=\"T_bdd08_row12_col7\" class=\"data row12 col7\" >0.0170</td>\n",
       "    </tr>\n",
       "    <tr>\n",
       "      <th id=\"T_bdd08_level0_row13\" class=\"row_heading level0 row13\" >llar</th>\n",
       "      <td id=\"T_bdd08_row13_col0\" class=\"data row13 col0\" >Lasso Least Angle Regression</td>\n",
       "      <td id=\"T_bdd08_row13_col1\" class=\"data row13 col1\" >1.0987</td>\n",
       "      <td id=\"T_bdd08_row13_col2\" class=\"data row13 col2\" >1.7434</td>\n",
       "      <td id=\"T_bdd08_row13_col3\" class=\"data row13 col3\" >1.3198</td>\n",
       "      <td id=\"T_bdd08_row13_col4\" class=\"data row13 col4\" >0.9640</td>\n",
       "      <td id=\"T_bdd08_row13_col5\" class=\"data row13 col5\" >0.1960</td>\n",
       "      <td id=\"T_bdd08_row13_col6\" class=\"data row13 col6\" >0.1830</td>\n",
       "      <td id=\"T_bdd08_row13_col7\" class=\"data row13 col7\" >0.0210</td>\n",
       "    </tr>\n",
       "    <tr>\n",
       "      <th id=\"T_bdd08_level0_row14\" class=\"row_heading level0 row14\" >huber</th>\n",
       "      <td id=\"T_bdd08_row14_col0\" class=\"data row14 col0\" >Huber Regressor</td>\n",
       "      <td id=\"T_bdd08_row14_col1\" class=\"data row14 col1\" >1.0605</td>\n",
       "      <td id=\"T_bdd08_row14_col2\" class=\"data row14 col2\" >1.7477</td>\n",
       "      <td id=\"T_bdd08_row14_col3\" class=\"data row14 col3\" >1.3214</td>\n",
       "      <td id=\"T_bdd08_row14_col4\" class=\"data row14 col4\" >0.9639</td>\n",
       "      <td id=\"T_bdd08_row14_col5\" class=\"data row14 col5\" >0.2009</td>\n",
       "      <td id=\"T_bdd08_row14_col6\" class=\"data row14 col6\" >0.1857</td>\n",
       "      <td id=\"T_bdd08_row14_col7\" class=\"data row14 col7\" >0.0260</td>\n",
       "    </tr>\n",
       "    <tr>\n",
       "      <th id=\"T_bdd08_level0_row15\" class=\"row_heading level0 row15\" >omp</th>\n",
       "      <td id=\"T_bdd08_row15_col0\" class=\"data row15 col0\" >Orthogonal Matching Pursuit</td>\n",
       "      <td id=\"T_bdd08_row15_col1\" class=\"data row15 col1\" >1.2162</td>\n",
       "      <td id=\"T_bdd08_row15_col2\" class=\"data row15 col2\" >2.0596</td>\n",
       "      <td id=\"T_bdd08_row15_col3\" class=\"data row15 col3\" >1.4349</td>\n",
       "      <td id=\"T_bdd08_row15_col4\" class=\"data row15 col4\" >0.9574</td>\n",
       "      <td id=\"T_bdd08_row15_col5\" class=\"data row15 col5\" >0.1976</td>\n",
       "      <td id=\"T_bdd08_row15_col6\" class=\"data row15 col6\" >0.1897</td>\n",
       "      <td id=\"T_bdd08_row15_col7\" class=\"data row15 col7\" >0.0230</td>\n",
       "    </tr>\n",
       "    <tr>\n",
       "      <th id=\"T_bdd08_level0_row16\" class=\"row_heading level0 row16\" >par</th>\n",
       "      <td id=\"T_bdd08_row16_col0\" class=\"data row16 col0\" >Passive Aggressive Regressor</td>\n",
       "      <td id=\"T_bdd08_row16_col1\" class=\"data row16 col1\" >1.3540</td>\n",
       "      <td id=\"T_bdd08_row16_col2\" class=\"data row16 col2\" >2.9879</td>\n",
       "      <td id=\"T_bdd08_row16_col3\" class=\"data row16 col3\" >1.6942</td>\n",
       "      <td id=\"T_bdd08_row16_col4\" class=\"data row16 col4\" >0.9380</td>\n",
       "      <td id=\"T_bdd08_row16_col5\" class=\"data row16 col5\" >0.1886</td>\n",
       "      <td id=\"T_bdd08_row16_col6\" class=\"data row16 col6\" >0.1816</td>\n",
       "      <td id=\"T_bdd08_row16_col7\" class=\"data row16 col7\" >0.0220</td>\n",
       "    </tr>\n",
       "    <tr>\n",
       "      <th id=\"T_bdd08_level0_row17\" class=\"row_heading level0 row17\" >dummy</th>\n",
       "      <td id=\"T_bdd08_row17_col0\" class=\"data row17 col0\" >Dummy Regressor</td>\n",
       "      <td id=\"T_bdd08_row17_col1\" class=\"data row17 col1\" >5.9512</td>\n",
       "      <td id=\"T_bdd08_row17_col2\" class=\"data row17 col2\" >48.4806</td>\n",
       "      <td id=\"T_bdd08_row17_col3\" class=\"data row17 col3\" >6.9616</td>\n",
       "      <td id=\"T_bdd08_row17_col4\" class=\"data row17 col4\" >-0.0026</td>\n",
       "      <td id=\"T_bdd08_row17_col5\" class=\"data row17 col5\" >0.6227</td>\n",
       "      <td id=\"T_bdd08_row17_col6\" class=\"data row17 col6\" >0.9954</td>\n",
       "      <td id=\"T_bdd08_row17_col7\" class=\"data row17 col7\" >0.0190</td>\n",
       "    </tr>\n",
       "  </tbody>\n",
       "</table>\n"
      ],
      "text/plain": [
       "<pandas.io.formats.style.Styler at 0x232ff29afa0>"
      ]
     },
     "metadata": {},
     "output_type": "display_data"
    },
    {
     "data": {
      "application/vnd.jupyter.widget-view+json": {
       "model_id": "",
       "version_major": 2,
       "version_minor": 0
      },
      "text/plain": [
       "Processing:   0%|          | 0/77 [00:00<?, ?it/s]"
      ]
     },
     "metadata": {},
     "output_type": "display_data"
    }
   ],
   "source": [
    "#Compare models and select the best one\n",
    "print(\"Comparing models...\")\n",
    "best_model = compare_models()"
   ]
  },
  {
   "cell_type": "code",
   "execution_count": 70,
   "id": "57bbb417",
   "metadata": {},
   "outputs": [
    {
     "name": "stdout",
     "output_type": "stream",
     "text": [
      "Best model: ExtraTreesRegressor(n_jobs=-1, random_state=6925)\n"
     ]
    }
   ],
   "source": [
    "# Display the best model\n",
    "print(\"Best model:\", best_model)"
   ]
  },
  {
   "cell_type": "code",
   "execution_count": 74,
   "id": "f9200ff0",
   "metadata": {},
   "outputs": [],
   "source": [
    "# Finalize the best model\n",
    "final_model=finalize_model(best_model)"
   ]
  },
  {
   "cell_type": "markdown",
   "id": "eb36608c",
   "metadata": {},
   "source": [
    "### Step 6: Evaluate Model\n",
    "After training the model, we will summarize our findings, evaluate the model’s performance, and justify the choice of the final model.\n"
   ]
  },
  {
   "cell_type": "code",
   "execution_count": 75,
   "id": "3356d80c",
   "metadata": {},
   "outputs": [
    {
     "name": "stdout",
     "output_type": "stream",
     "text": [
      "Feature importance analysis...\n"
     ]
    },
    {
     "data": {
      "text/html": [],
      "text/plain": [
       "<IPython.core.display.HTML object>"
      ]
     },
     "metadata": {},
     "output_type": "display_data"
    },
    {
     "data": {
      "image/png": "[encoded data removed]",
      "text/plain": [
       "<Figure size 800x500 with 1 Axes>"
      ]
     },
     "metadata": {},
     "output_type": "display_data"
    }
   ],
   "source": [
    "# Feature importance\n",
    "print(\"Feature importance analysis...\")\n",
    "plot_model(final_model, plot='feature')"
   ]
  },
  {
   "cell_type": "markdown",
   "id": "29031733",
   "metadata": {},
   "source": [
    "I will not ignore the gender column because although it is of little importance, it affects the performance of the model better"
   ]
  },
  {
   "cell_type": "code",
   "execution_count": 76,
   "id": "43f2404a",
   "metadata": {},
   "outputs": [
    {
     "data": {
      "text/html": [],
      "text/plain": [
       "<IPython.core.display.HTML object>"
      ]
     },
     "metadata": {},
     "output_type": "display_data"
    },
    {
     "data": {
      "image/png": "[encoded data removed]",
      "text/plain": [
       "<Figure size 800x550 with 2 Axes>"
      ]
     },
     "metadata": {},
     "output_type": "display_data"
    }
   ],
   "source": [
    "# Residuals plot\n",
    "plot_model(final_model, plot='residuals')\n"
   ]
  },
  {
   "cell_type": "code",
   "execution_count": 77,
   "id": "af0df8c5",
   "metadata": {},
   "outputs": [
    {
     "name": "stdout",
     "output_type": "stream",
     "text": [
      "Model performance:\n",
      "                                    Model     MAE      MSE    RMSE      R2  \\\n",
      "et                  Extra Trees Regressor  0.0096   0.0007  0.0263  1.0000   \n",
      "rf                Random Forest Regressor  0.0357   0.0039  0.0625  0.9999   \n",
      "lightgbm  Light Gradient Boosting Machine  0.0341   0.0044  0.0659  0.9999   \n",
      "dt                Decision Tree Regressor  0.0529   0.0099  0.0991  0.9998   \n",
      "gbr           Gradient Boosting Regressor  0.0810   0.0179  0.1328  0.9996   \n",
      "knn                 K Neighbors Regressor  0.1736   0.0579  0.2402  0.9988   \n",
      "ada                    AdaBoost Regressor  0.5505   0.4333  0.6578  0.9910   \n",
      "lar                Least Angle Regression  1.0852   1.7087  1.3066  0.9647   \n",
      "br                         Bayesian Ridge  1.0853   1.7087  1.3066  0.9647   \n",
      "ridge                    Ridge Regression  1.0852   1.7087  1.3066  0.9647   \n",
      "lr                      Linear Regression  1.0852   1.7087  1.3066  0.9647   \n",
      "lasso                    Lasso Regression  1.0987   1.7434  1.3198  0.9640   \n",
      "en                            Elastic Net  1.0967   1.7406  1.3188  0.9640   \n",
      "llar         Lasso Least Angle Regression  1.0987   1.7434  1.3198  0.9640   \n",
      "huber                     Huber Regressor  1.0605   1.7477  1.3214  0.9639   \n",
      "omp           Orthogonal Matching Pursuit  1.2162   2.0596  1.4349  0.9574   \n",
      "par          Passive Aggressive Regressor  1.3540   2.9879  1.6942  0.9380   \n",
      "dummy                     Dummy Regressor  5.9512  48.4806  6.9616 -0.0026   \n",
      "\n",
      "           RMSLE    MAPE  TT (Sec)  \n",
      "et        0.0020  0.0007     0.187  \n",
      "rf        0.0049  0.0028     0.225  \n",
      "lightgbm  0.0047  0.0027     0.165  \n",
      "dt        0.0068  0.0037     0.025  \n",
      "gbr       0.0117  0.0082     0.081  \n",
      "knn       0.0389  0.0262     0.028  \n",
      "ada       0.0933  0.0744     0.090  \n",
      "lar       0.1900  0.1762     0.022  \n",
      "br        0.1900  0.1762     0.020  \n",
      "ridge     0.1900  0.1762     0.018  \n",
      "lr        0.1900  0.1762     1.045  \n",
      "lasso     0.1960  0.1830     0.019  \n",
      "en        0.1944  0.1813     0.017  \n",
      "llar      0.1960  0.1830     0.021  \n",
      "huber     0.2009  0.1857     0.026  \n",
      "omp       0.1976  0.1897     0.023  \n",
      "par       0.1886  0.1816     0.022  \n",
      "dummy     0.6227  0.9954     0.019  \n"
     ]
    }
   ],
   "source": [
    "# Model performance\n",
    "performance = pull()\n",
    "print(\"Model performance:\")\n",
    "print(performance)"
   ]
  },
  {
   "cell_type": "code",
   "execution_count": 80,
   "id": "d86574f8",
   "metadata": {},
   "outputs": [
    {
     "name": "stdout",
     "output_type": "stream",
     "text": [
      "New data for prediction:\n",
      "   Gender  Age  Dur\n",
      "0       0   30   20\n",
      "1       1   25   40\n"
     ]
    },
    {
     "data": {
      "text/html": [],
      "text/plain": [
       "<IPython.core.display.HTML object>"
      ]
     },
     "metadata": {},
     "output_type": "display_data"
    },
    {
     "name": "stdout",
     "output_type": "stream",
     "text": [
      "Predictions:\n",
      "   Gender  Age  Dur  prediction_label\n",
      "0       0   30   20         15.093797\n",
      "1       1   25   40         23.192934\n"
     ]
    }
   ],
   "source": [
    "# 7. Prediction on new data (if applicable)\n",
    "new_data = pd.DataFrame({\n",
    "    'Gender': [0, 1],  # Male, Female\n",
    "    'Age': [30, 25],\n",
    "    'Dur':[20,40]\n",
    "})\n",
    "\n",
    "print(\"New data for prediction:\")\n",
    "print(new_data)\n",
    "\n",
    "predictions = predict_model(final_model, data=new_data)\n",
    "print(\"Predictions:\")\n",
    "print(predictions)"
   ]
  },
  {
   "cell_type": "code",
   "execution_count": 79,
   "id": "744cd4ea",
   "metadata": {},
   "outputs": [
    {
     "name": "stdout",
     "output_type": "stream",
     "text": [
      "Transformation Pipeline and Model Successfully Saved\n",
      "Model saved as 'best_regression_model.pkl'\n"
     ]
    }
   ],
   "source": [
    "# Save the model for future use\n",
    "save_model(final_model, 'best_regression_model')\n",
    "print(\"Model saved as 'best_regression_model.pkl'\")\n"
   ]
  }
 ],
 "metadata": {
  "kernelspec": {
   "display_name": "Python 3 (ipykernel)",
   "language": "python",
   "name": "python3"
  },
  "language_info": {
   "codemirror_mode": {
    "name": "ipython",
    "version": 3
   },
   "file_extension": ".py",
   "mimetype": "text/x-python",
   "name": "python",
   "nbconvert_exporter": "python",
   "pygments_lexer": "ipython3",
   "version": "3.9.13"
  }
 },
 "nbformat": 4,
 "nbformat_minor": 5
}
